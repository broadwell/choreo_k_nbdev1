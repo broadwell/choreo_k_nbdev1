{
 "cells": [
  {
   "cell_type": "code",
   "execution_count": null,
   "metadata": {},
   "outputs": [],
   "source": [
    "#hide\n",
    "#from your_lib.core import *"
   ]
  },
  {
   "cell_type": "markdown",
   "metadata": {},
   "source": [
    "# choreo_k\n",
    "\n",
    "> Tools for pose detection and choreographic analysis of dance videos"
   ]
  },
  {
   "cell_type": "markdown",
   "metadata": {},
   "source": [
    "## Cite"
   ]
  },
  {
   "cell_type": "markdown",
   "metadata": {},
   "source": [
    "This repository contains code and data used in the paper [Comparative K-Pop Choreography Analysis through Deep-Learning Pose Estimation across A Large Video Corpus](http://www.digitalhumanities.org/dhq/vol/15/1/000506/000506.html):\n",
    "\n",
    "    @article{btdhq2021151,\n",
    "        author = {Peter Broadwell and Timothy R. Tangherlini},\n",
    "        title = {Comparative K-Pop Choreography Analysis through Deep-Learning Pose Estimation across A Large Video Corpus},\n",
    "        journal = {Digital Humanities Quarterly},\n",
    "        volume = {15},\n",
    "        number = {1},\n",
    "        year = 2021\n",
    "    }"
   ]
  },
  {
   "cell_type": "markdown",
   "metadata": {},
   "source": [
    "## Try"
   ]
  },
  {
   "cell_type": "markdown",
   "metadata": {},
   "source": [
    "The full Python code package documented here is still under development. To try out the pose analysis code in the meantime, we recommend opening the notebook at [examples/Pose_analysis_examples.ipynb](https://github.com/broadwell/choreo_k/blob/main/examples/Pose_analysis_examples.ipynb). The code is most likely to work in Google Colab:\n",
    "\n",
    "[![Open In Colab](https://colab.research.google.com/assets/colab-badge.svg)](https://colab.research.google.com/github/broadwell/choreo_k/examples/Pose_analysis_examples.ipynb)"
   ]
  },
  {
   "cell_type": "markdown",
   "metadata": {},
   "source": [
    "## Documentation\n",
    "\n",
    "https://broadwell.github.io/choreo_k/"
   ]
  }
 ],
 "metadata": {
  "kernelspec": {
   "display_name": "Python 3",
   "language": "python",
   "name": "python3"
  }
 },
 "nbformat": 4,
 "nbformat_minor": 2
}
